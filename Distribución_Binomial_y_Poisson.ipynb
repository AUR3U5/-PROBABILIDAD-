{
  "nbformat": 4,
  "nbformat_minor": 0,
  "metadata": {
    "colab": {
      "provenance": []
    },
    "kernelspec": {
      "name": "python3",
      "display_name": "Python 3"
    },
    "language_info": {
      "name": "python"
    }
  },
  "cells": [
    {
      "cell_type": "markdown",
      "source": [
        "##Aurelio Daniel Gurrola Luevanos 2YY\n",
        "\n"
      ],
      "metadata": {
        "id": "Uonf079kNNYJ"
      }
    },
    {
      "cell_type": "markdown",
      "source": [
        "##Problema 1"
      ],
      "metadata": {
        "id": "st7mT0jUNTlj"
      }
    },
    {
      "cell_type": "code",
      "source": [
        "from scipy.stats import poisson"
      ],
      "metadata": {
        "id": "dv5gGgwyb3ht"
      },
      "execution_count": 7,
      "outputs": []
    },
    {
      "cell_type": "code",
      "source": [
        "## La solucion de este problema es de tipo Poisson ya que estamos contando eventos raros en un intervalo continuo de tiempo y espacio\n",
        "\n",
        "# a) Probabilidad de que el número de personas ingresadas sea 2\n",
        "media_pacientes = 5 # Media de pacientes que llegan por dia al hospital\n",
        "probabilidad_2_pacientes = poisson.pmf(2, media_pacientes) # Probabilidad de que solo lleguen 2 pacientes en un dia\n",
        "\n",
        "print(\"a) La probabilidad de que el núimero de personas ingresadas al hospital en undia sea 2 es: \", probabilidad_2_pacientes)\n",
        "\n",
        "# b) Probabilidad de que el número de personas ingresadas exceda de 10\n",
        "probabilidad_mayor_10_pacientes = 1 - poisson.cdf(10, media_pacientes)  # Probabilidad de que el número de pacientes sea mayor que 10\n",
        "\n",
        "print(\"b) La probabilidad de que el número de personas ingresadas al hospital en un día exceda de 10 es:\", probabilidad_mayor_10_pacientes)\n",
        "# Usamos \"poisson.cdf(10, media_pacientes)\" para calcular la probabilidad acumulada de que el número de personas ingresadas sea menor o igual a 10\n",
        "# y luego restamos este valor de 1 para obtener la probabilidad de que el número de personas ingresadas sea mayor que 10. Esto nos da la respuesta al inciso b)."
      ],
      "metadata": {
        "colab": {
          "base_uri": "https://localhost:8080/"
        },
        "id": "b_rqXOczcE_3",
        "outputId": "4b51f563-074d-43f5-8920-752898c2e8e3"
      },
      "execution_count": 17,
      "outputs": [
        {
          "output_type": "stream",
          "name": "stdout",
          "text": [
            "a) La probabilidad de que el núimero de personas ingresadas al hospital en undia sea 2 es:  0.08422433748856832\n",
            "b) La probabilidad de que el número de personas ingresadas al hospital en un día exceda de 10 es: 0.013695268598382881\n"
          ]
        }
      ]
    },
    {
      "cell_type": "markdown",
      "source": [
        "## Problema 2"
      ],
      "metadata": {
        "id": "27Yg-lhFfETs"
      }
    },
    {
      "cell_type": "code",
      "source": [
        "from scipy.stats import binom"
      ],
      "metadata": {
        "id": "_dQRttlqh_ZC"
      },
      "execution_count": 18,
      "outputs": []
    },
    {
      "cell_type": "code",
      "source": [
        "## La solucion de este problema es de tipo Binomial ya que estamos consiguiendo la probabilidad de un numero exacto\n",
        "## de exitos en número especifico de acontecimientos independientes\n",
        "\n",
        "probabilidad_defectuoso = .001\n",
        "num_motores = 1000\n",
        "\n",
        "# a) Probabilidad de que ninguno sea defectuoso\n",
        "probabilidad_ninguno_defectuoso = binom.pmf(0, num_motores, probabilidad_defectuoso)\n",
        "print(\"a) La probabilidad de que ninguno sea defectuoso es:\", probabilidad_ninguno_defectuoso)\n",
        "\n",
        "# b) Probabilidad de que tres sean defectuosos\n",
        "probabilidad_tres_defectuosos = binom.pmf(3, num_motores, probabilidad_defectuoso)\n",
        "print(\"b) La probabilidad de que tres sean defectuosos es:\", probabilidad_tres_defectuosos)\n",
        "\n",
        "# c) Probabilidad de que cuatro sean defectuosos\n",
        "probabilidad_cuatro_defectuosos = binom.pmf(4, num_motores, probabilidad_defectuoso)\n",
        "print(\"c) La probabilidad de que cuatro sean defectuosos es:\", probabilidad_cuatro_defectuosos)\n",
        "\n",
        "\n"
      ],
      "metadata": {
        "colab": {
          "base_uri": "https://localhost:8080/"
        },
        "id": "gRxjz0_OfIfT",
        "outputId": "9097e501-1262-4d31-fd55-be882a64e7ca"
      },
      "execution_count": 19,
      "outputs": [
        {
          "output_type": "stream",
          "name": "stdout",
          "text": [
            "a) La probabilidad de que ninguno sea defectuoso es: 0.3676954247709639\n",
            "b) La probabilidad de que tres sean defectuosos es: 0.061282509389840666\n",
            "c) La probabilidad de que cuatro sean defectuosos es: 0.015289955420838651\n"
          ]
        }
      ]
    }
  ]
}